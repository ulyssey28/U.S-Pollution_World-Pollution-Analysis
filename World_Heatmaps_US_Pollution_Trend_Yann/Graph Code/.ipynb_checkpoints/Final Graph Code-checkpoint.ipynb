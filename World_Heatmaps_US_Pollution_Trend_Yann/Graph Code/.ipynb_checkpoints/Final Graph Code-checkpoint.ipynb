{
 "cells": [
  {
   "cell_type": "code",
   "execution_count": 1,
   "metadata": {},
   "outputs": [],
   "source": [
    "%matplotlib inline\n",
    "\n",
    "import matplotlib.pyplot as plt\n",
    "import pandas as pd\n",
    "import gmaps\n",
    "from config import gkey\n",
    "gmaps.configure(api_key=gkey)\n",
    "\n",
    "State_Chem_filepath = \"../DataFrames/Chem_mean_by_State.csv\"\n",
    "Chem_filepath = \"../DataFrames/Chem_mean_by_Year.csv\"\n",
    "Mort_filepath = \"../DataFrames/US_PM25_Mort_data.csv\"\n",
    "State_Pop_filepath = \"../DataFrames/State_Population.csv\"\n",
    "World_Pollution_filepath = \"../DataFrames/World_Pollution_df.csv\"\n",
    "US_AQI_data = \"../DataFrames/AQI_data.csv\"\n",
    "\n",
    "AQI_data = pd.read_csv(US_AQI_data)\n",
    "Chem_by_Year = pd.read_csv(Chem_filepath)\n",
    "US_PM25_Mort_data = pd.read_csv(Mort_filepath)\n",
    "State_Population_df = pd.read_csv(State_Pop_filepath)\n",
    "Chem_by_ST_Year = pd.read_csv(State_Chem_filepath)\n",
    "World_Pollution_df = pd.read_csv(World_Pollution_filepath)"
   ]
  },
  {
   "cell_type": "code",
   "execution_count": null,
   "metadata": {},
   "outputs": [],
   "source": []
  },
  {
   "cell_type": "markdown",
   "metadata": {},
   "source": [
    "# World Pollution Heat Maps:"
   ]
  },
  {
   "cell_type": "code",
   "execution_count": null,
   "metadata": {},
   "outputs": [],
   "source": []
  },
  {
   "cell_type": "code",
   "execution_count": 3,
   "metadata": {},
   "outputs": [
    {
     "data": {
      "text/html": [
       "<div>\n",
       "<style scoped>\n",
       "    .dataframe tbody tr th:only-of-type {\n",
       "        vertical-align: middle;\n",
       "    }\n",
       "\n",
       "    .dataframe tbody tr th {\n",
       "        vertical-align: top;\n",
       "    }\n",
       "\n",
       "    .dataframe thead th {\n",
       "        text-align: right;\n",
       "    }\n",
       "</style>\n",
       "<table border=\"1\" class=\"dataframe\">\n",
       "  <thead>\n",
       "    <tr style=\"text-align: right;\">\n",
       "      <th></th>\n",
       "      <th>City</th>\n",
       "      <th>Country</th>\n",
       "      <th>Latitude</th>\n",
       "      <th>Longitude</th>\n",
       "      <th>Value CO</th>\n",
       "      <th>Value NO2</th>\n",
       "      <th>Value O3</th>\n",
       "      <th>Value PM25</th>\n",
       "    </tr>\n",
       "  </thead>\n",
       "  <tbody>\n",
       "    <tr>\n",
       "      <th>0</th>\n",
       "      <td>Tandil</td>\n",
       "      <td>Argentina</td>\n",
       "      <td>-37.321674</td>\n",
       "      <td>-59.133164</td>\n",
       "      <td>0</td>\n",
       "      <td>0</td>\n",
       "      <td>17</td>\n",
       "      <td>7</td>\n",
       "    </tr>\n",
       "    <tr>\n",
       "      <th>1</th>\n",
       "      <td>Ushuaia</td>\n",
       "      <td>Argentina</td>\n",
       "      <td>-54.800000</td>\n",
       "      <td>-68.300000</td>\n",
       "      <td>0</td>\n",
       "      <td>0</td>\n",
       "      <td>12</td>\n",
       "      <td>4</td>\n",
       "    </tr>\n",
       "    <tr>\n",
       "      <th>2</th>\n",
       "      <td>Villazon</td>\n",
       "      <td>Argentina</td>\n",
       "      <td>-22.100000</td>\n",
       "      <td>-65.600000</td>\n",
       "      <td>0</td>\n",
       "      <td>0</td>\n",
       "      <td>5</td>\n",
       "      <td>5</td>\n",
       "    </tr>\n",
       "    <tr>\n",
       "      <th>3</th>\n",
       "      <td>Mendoza</td>\n",
       "      <td>Argentina</td>\n",
       "      <td>-32.890845</td>\n",
       "      <td>-68.827171</td>\n",
       "      <td>1</td>\n",
       "      <td>8</td>\n",
       "      <td>11</td>\n",
       "      <td>54</td>\n",
       "    </tr>\n",
       "    <tr>\n",
       "      <th>4</th>\n",
       "      <td>Tandil</td>\n",
       "      <td>Argentina</td>\n",
       "      <td>-37.321674</td>\n",
       "      <td>-59.133164</td>\n",
       "      <td>0</td>\n",
       "      <td>0</td>\n",
       "      <td>23</td>\n",
       "      <td>23</td>\n",
       "    </tr>\n",
       "  </tbody>\n",
       "</table>\n",
       "</div>"
      ],
      "text/plain": [
       "       City    Country   Latitude  Longitude  Value CO  Value NO2  Value O3  \\\n",
       "0    Tandil  Argentina -37.321674 -59.133164         0          0        17   \n",
       "1   Ushuaia  Argentina -54.800000 -68.300000         0          0        12   \n",
       "2  Villazon  Argentina -22.100000 -65.600000         0          0         5   \n",
       "3   Mendoza  Argentina -32.890845 -68.827171         1          8        11   \n",
       "4    Tandil  Argentina -37.321674 -59.133164         0          0        23   \n",
       "\n",
       "   Value PM25  \n",
       "0           7  \n",
       "1           4  \n",
       "2           5  \n",
       "3          54  \n",
       "4          23  "
      ]
     },
     "execution_count": 3,
     "metadata": {},
     "output_type": "execute_result"
    }
   ],
   "source": [
    "nWorld_Pollution_df = World_Pollution_df.drop(columns='Unnamed: 0')\n",
    "nWorld_Pollution_df.head()"
   ]
  },
  {
   "cell_type": "markdown",
   "metadata": {},
   "source": [
    "# Carbon Monoxide AQI levels"
   ]
  },
  {
   "cell_type": "code",
   "execution_count": 4,
   "metadata": {},
   "outputs": [
    {
     "data": {
      "application/vnd.jupyter.widget-view+json": {
       "model_id": "1dddc8c5d58f4b25b5f7a28ec3abe421",
       "version_major": 2,
       "version_minor": 0
      },
      "text/plain": [
       "Figure(layout=FigureLayout(height='420px'))"
      ]
     },
     "metadata": {},
     "output_type": "display_data"
    }
   ],
   "source": [
    "fig = gmaps.figure()\n",
    "heatmap_layer = gmaps.heatmap_layer(\n",
    "    nWorld_Pollution_df[['Latitude', 'Longitude']], weights=nWorld_Pollution_df['Value CO'],\n",
    "    max_intensity=300, point_radius=5.0\n",
    ")\n",
    "fig.add_layer(heatmap_layer)\n",
    "fig"
   ]
  },
  {
   "cell_type": "code",
   "execution_count": null,
   "metadata": {},
   "outputs": [],
   "source": []
  },
  {
   "cell_type": "markdown",
   "metadata": {},
   "source": [
    "# Nitrogen Dioxide AQI Levels "
   ]
  },
  {
   "cell_type": "code",
   "execution_count": 5,
   "metadata": {},
   "outputs": [
    {
     "data": {
      "application/vnd.jupyter.widget-view+json": {
       "model_id": "4795d3bd562b4437ba5f54e2afa45beb",
       "version_major": 2,
       "version_minor": 0
      },
      "text/plain": [
       "Figure(layout=FigureLayout(height='420px'))"
      ]
     },
     "metadata": {},
     "output_type": "display_data"
    }
   ],
   "source": [
    "fig = gmaps.figure()\n",
    "heatmap_layer = gmaps.heatmap_layer(\n",
    "    nWorld_Pollution_df[['Latitude', 'Longitude']], weights=nWorld_Pollution_df['Value NO2'],\n",
    "    max_intensity=300, point_radius=5.0\n",
    ")\n",
    "fig.add_layer(heatmap_layer)\n",
    "fig"
   ]
  },
  {
   "cell_type": "code",
   "execution_count": null,
   "metadata": {},
   "outputs": [],
   "source": []
  },
  {
   "cell_type": "markdown",
   "metadata": {},
   "source": [
    "# Ozone AQI Levels "
   ]
  },
  {
   "cell_type": "code",
   "execution_count": 6,
   "metadata": {},
   "outputs": [
    {
     "data": {
      "application/vnd.jupyter.widget-view+json": {
       "model_id": "74b79eadb345416497892b617926087f",
       "version_major": 2,
       "version_minor": 0
      },
      "text/plain": [
       "Figure(layout=FigureLayout(height='420px'))"
      ]
     },
     "metadata": {},
     "output_type": "display_data"
    }
   ],
   "source": [
    "fig = gmaps.figure()\n",
    "heatmap_layer = gmaps.heatmap_layer(\n",
    "    nWorld_Pollution_df[['Latitude', 'Longitude']], weights=nWorld_Pollution_df['Value O3'],\n",
    "    max_intensity=300, point_radius=5.0\n",
    ")\n",
    "fig.add_layer(heatmap_layer)\n",
    "fig"
   ]
  },
  {
   "cell_type": "code",
   "execution_count": null,
   "metadata": {},
   "outputs": [],
   "source": []
  },
  {
   "cell_type": "markdown",
   "metadata": {},
   "source": [
    "# PM2.5 AQI Levels "
   ]
  },
  {
   "cell_type": "code",
   "execution_count": 7,
   "metadata": {},
   "outputs": [
    {
     "data": {
      "application/vnd.jupyter.widget-view+json": {
       "model_id": "8e697c626ea2418d8292174d6af771b1",
       "version_major": 2,
       "version_minor": 0
      },
      "text/plain": [
       "Figure(layout=FigureLayout(height='420px'))"
      ]
     },
     "metadata": {},
     "output_type": "display_data"
    }
   ],
   "source": [
    "fig = gmaps.figure()\n",
    "heatmap_layer = gmaps.heatmap_layer(\n",
    "    nWorld_Pollution_df[['Latitude', 'Longitude']], weights=nWorld_Pollution_df['Value PM25'],\n",
    "    max_intensity=300, point_radius=5.0\n",
    ")\n",
    "fig.add_layer(heatmap_layer)\n",
    "fig"
   ]
  },
  {
   "cell_type": "markdown",
   "metadata": {},
   "source": []
  },
  {
   "cell_type": "code",
   "execution_count": 8,
   "metadata": {},
   "outputs": [
    {
     "data": {
      "text/html": [
       "<div>\n",
       "<style scoped>\n",
       "    .dataframe tbody tr th:only-of-type {\n",
       "        vertical-align: middle;\n",
       "    }\n",
       "\n",
       "    .dataframe tbody tr th {\n",
       "        vertical-align: top;\n",
       "    }\n",
       "\n",
       "    .dataframe thead th {\n",
       "        text-align: right;\n",
       "    }\n",
       "</style>\n",
       "<table border=\"1\" class=\"dataframe\">\n",
       "  <thead>\n",
       "    <tr style=\"text-align: right;\">\n",
       "      <th></th>\n",
       "      <th>Year</th>\n",
       "      <th>SO2 AQI</th>\n",
       "      <th>CO AQI</th>\n",
       "      <th>O3 AQI</th>\n",
       "      <th>NO2 AQI</th>\n",
       "    </tr>\n",
       "  </thead>\n",
       "  <tbody>\n",
       "    <tr>\n",
       "      <th>0</th>\n",
       "      <td>2000</td>\n",
       "      <td>14.260908</td>\n",
       "      <td>9.540096</td>\n",
       "      <td>36.022688</td>\n",
       "      <td>30.969852</td>\n",
       "    </tr>\n",
       "    <tr>\n",
       "      <th>1</th>\n",
       "      <td>2001</td>\n",
       "      <td>12.836909</td>\n",
       "      <td>8.792393</td>\n",
       "      <td>37.641191</td>\n",
       "      <td>31.310673</td>\n",
       "    </tr>\n",
       "    <tr>\n",
       "      <th>2</th>\n",
       "      <td>2002</td>\n",
       "      <td>11.030905</td>\n",
       "      <td>8.486407</td>\n",
       "      <td>39.559160</td>\n",
       "      <td>29.363726</td>\n",
       "    </tr>\n",
       "    <tr>\n",
       "      <th>3</th>\n",
       "      <td>2003</td>\n",
       "      <td>11.328351</td>\n",
       "      <td>8.246634</td>\n",
       "      <td>36.631114</td>\n",
       "      <td>28.334598</td>\n",
       "    </tr>\n",
       "    <tr>\n",
       "      <th>4</th>\n",
       "      <td>2004</td>\n",
       "      <td>11.249550</td>\n",
       "      <td>7.411070</td>\n",
       "      <td>34.741209</td>\n",
       "      <td>26.940324</td>\n",
       "    </tr>\n",
       "  </tbody>\n",
       "</table>\n",
       "</div>"
      ],
      "text/plain": [
       "   Year    SO2 AQI    CO AQI     O3 AQI    NO2 AQI\n",
       "0  2000  14.260908  9.540096  36.022688  30.969852\n",
       "1  2001  12.836909  8.792393  37.641191  31.310673\n",
       "2  2002  11.030905  8.486407  39.559160  29.363726\n",
       "3  2003  11.328351  8.246634  36.631114  28.334598\n",
       "4  2004  11.249550  7.411070  34.741209  26.940324"
      ]
     },
     "execution_count": 8,
     "metadata": {},
     "output_type": "execute_result"
    }
   ],
   "source": [
    "Chem_by_Year.head()"
   ]
  },
  {
   "cell_type": "code",
   "execution_count": null,
   "metadata": {},
   "outputs": [],
   "source": []
  },
  {
   "cell_type": "markdown",
   "metadata": {},
   "source": [
    "# Pollutant Trends Over Time In The US"
   ]
  },
  {
   "cell_type": "code",
   "execution_count": 9,
   "metadata": {},
   "outputs": [
    {
     "data": {
      "image/png": "[encoded data removed]",
      "text/plain": [
       "<Figure size 432x288 with 1 Axes>"
      ]
     },
     "metadata": {
      "needs_background": "light"
     },
     "output_type": "display_data"
    },
    {
     "data": {
      "image/png": "[encoded data removed]",
      "text/plain": [
       "<Figure size 432x288 with 1 Axes>"
      ]
     },
     "metadata": {
      "needs_background": "light"
     },
     "output_type": "display_data"
    },
    {
     "data": {
      "image/png": "[encoded data removed]",
      "text/plain": [
       "<Figure size 432x288 with 1 Axes>"
      ]
     },
     "metadata": {
      "needs_background": "light"
     },
     "output_type": "display_data"
    },
    {
     "data": {
      "image/png": "[encoded data removed]",
      "text/plain": [
       "<Figure size 432x288 with 1 Axes>"
      ]
     },
     "metadata": {
      "needs_background": "light"
     },
     "output_type": "display_data"
    }
   ],
   "source": [
    "plt.subplot()\n",
    "plt.plot(Chem_by_Year['Year'], Chem_by_Year['NO2 AQI'], marker='o')\n",
    "plt.title(\"Mean NO2 AQI vs Year\")\n",
    "plt.xlabel(\"Year\")\n",
    "plt.ylabel(\"NO2 AQI Average\")\n",
    "plt.grid()\n",
    "plt.show()\n",
    "\n",
    "plt.subplot()\n",
    "plt.plot(Chem_by_Year['Year'], Chem_by_Year['O3 AQI'], marker='o')\n",
    "plt.title(\"Mean O3 AQI vs Year\")\n",
    "plt.xlabel(\"Year\")\n",
    "plt.ylabel(\"03 AQI Average\")\n",
    "plt.grid()\n",
    "plt.show()\n",
    "\n",
    "plt.subplot()\n",
    "plt.plot(Chem_by_Year['Year'], Chem_by_Year['SO2 AQI'], marker='o')\n",
    "plt.title(\"Mean SO2 AQI vs Year\")\n",
    "plt.xlabel(\"Year\")\n",
    "plt.ylabel(\"SO2 AQI Average\")\n",
    "plt.grid()\n",
    "plt.show()\n",
    "\n",
    "plt.subplot()\n",
    "plt.plot(Chem_by_Year['Year'], Chem_by_Year['CO AQI'], marker='o')\n",
    "plt.title(\"Mean CO AQI vs Year\")\n",
    "plt.xlabel(\"Year\")\n",
    "plt.ylabel(\"O3 AQI Average\")\n",
    "plt.grid()\n",
    "plt.show()"
   ]
  },
  {
   "cell_type": "markdown",
   "metadata": {},
   "source": [
    "# Mortality From PM2.5 Over Time"
   ]
  },
  {
   "cell_type": "code",
   "execution_count": 10,
   "metadata": {},
   "outputs": [
    {
     "data": {
      "text/html": [
       "<div>\n",
       "<style scoped>\n",
       "    .dataframe tbody tr th:only-of-type {\n",
       "        vertical-align: middle;\n",
       "    }\n",
       "\n",
       "    .dataframe tbody tr th {\n",
       "        vertical-align: top;\n",
       "    }\n",
       "\n",
       "    .dataframe thead th {\n",
       "        text-align: right;\n",
       "    }\n",
       "</style>\n",
       "<table border=\"1\" class=\"dataframe\">\n",
       "  <thead>\n",
       "    <tr style=\"text-align: right;\">\n",
       "      <th></th>\n",
       "      <th>Country</th>\n",
       "      <th>Variable</th>\n",
       "      <th>Year</th>\n",
       "      <th>Unit</th>\n",
       "      <th>Value</th>\n",
       "    </tr>\n",
       "  </thead>\n",
       "  <tbody>\n",
       "    <tr>\n",
       "      <th>0</th>\n",
       "      <td>United States</td>\n",
       "      <td>Mortality from exposure to outdoor PM2.5</td>\n",
       "      <td>1990</td>\n",
       "      <td>Per 1 000 000 inhabitants</td>\n",
       "      <td>372.6680</td>\n",
       "    </tr>\n",
       "    <tr>\n",
       "      <th>1</th>\n",
       "      <td>United States</td>\n",
       "      <td>Mortality from exposure to outdoor PM2.5</td>\n",
       "      <td>1991</td>\n",
       "      <td>Per 1 000 000 inhabitants</td>\n",
       "      <td>371.3994</td>\n",
       "    </tr>\n",
       "    <tr>\n",
       "      <th>2</th>\n",
       "      <td>United States</td>\n",
       "      <td>Mortality from exposure to outdoor PM2.5</td>\n",
       "      <td>1992</td>\n",
       "      <td>Per 1 000 000 inhabitants</td>\n",
       "      <td>367.1144</td>\n",
       "    </tr>\n",
       "    <tr>\n",
       "      <th>3</th>\n",
       "      <td>United States</td>\n",
       "      <td>Mortality from exposure to outdoor PM2.5</td>\n",
       "      <td>1993</td>\n",
       "      <td>Per 1 000 000 inhabitants</td>\n",
       "      <td>375.3801</td>\n",
       "    </tr>\n",
       "    <tr>\n",
       "      <th>4</th>\n",
       "      <td>United States</td>\n",
       "      <td>Mortality from exposure to outdoor PM2.5</td>\n",
       "      <td>1994</td>\n",
       "      <td>Per 1 000 000 inhabitants</td>\n",
       "      <td>373.4384</td>\n",
       "    </tr>\n",
       "  </tbody>\n",
       "</table>\n",
       "</div>"
      ],
      "text/plain": [
       "         Country                                  Variable  Year  \\\n",
       "0  United States  Mortality from exposure to outdoor PM2.5  1990   \n",
       "1  United States  Mortality from exposure to outdoor PM2.5  1991   \n",
       "2  United States  Mortality from exposure to outdoor PM2.5  1992   \n",
       "3  United States  Mortality from exposure to outdoor PM2.5  1993   \n",
       "4  United States  Mortality from exposure to outdoor PM2.5  1994   \n",
       "\n",
       "                        Unit     Value  \n",
       "0  Per 1 000 000 inhabitants  372.6680  \n",
       "1  Per 1 000 000 inhabitants  371.3994  \n",
       "2  Per 1 000 000 inhabitants  367.1144  \n",
       "3  Per 1 000 000 inhabitants  375.3801  \n",
       "4  Per 1 000 000 inhabitants  373.4384  "
      ]
     },
     "execution_count": 10,
     "metadata": {},
     "output_type": "execute_result"
    }
   ],
   "source": [
    "US_PM25_Mort_data.head()"
   ]
  },
  {
   "cell_type": "code",
   "execution_count": null,
   "metadata": {},
   "outputs": [],
   "source": []
  },
  {
   "cell_type": "code",
   "execution_count": 11,
   "metadata": {},
   "outputs": [
    {
     "data": {
      "image/png": "[encoded data removed]",
      "text/plain": [
       "<Figure size 432x288 with 1 Axes>"
      ]
     },
     "metadata": {
      "needs_background": "light"
     },
     "output_type": "display_data"
    }
   ],
   "source": [
    "plt.plot(US_PM25_Mort_data['Year'], US_PM25_Mort_data['Value'], marker='o')\n",
    "plt.title(\"Avg Mort Count vs Year\")\n",
    "plt.xlabel(\"Year\")\n",
    "plt.ylabel(\"Avg Mort Count\")\n",
    "plt.grid()"
   ]
  },
  {
   "cell_type": "code",
   "execution_count": null,
   "metadata": {},
   "outputs": [],
   "source": []
  }
 ],
 "metadata": {
  "kernelspec": {
   "display_name": "Python 3",
   "language": "python",
   "name": "python3"
  },
  "language_info": {
   "codemirror_mode": {
    "name": "ipython",
    "version": 3
   },
   "file_extension": ".py",
   "mimetype": "text/x-python",
   "name": "python",
   "nbconvert_exporter": "python",
   "pygments_lexer": "ipython3",
   "version": "3.7.0"
  }
 },
 "nbformat": 4,
 "nbformat_minor": 2
}
